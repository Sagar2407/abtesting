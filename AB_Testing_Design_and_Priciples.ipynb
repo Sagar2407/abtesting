{
  "nbformat": 4,
  "nbformat_minor": 0,
  "metadata": {
    "colab": {
      "provenance": []
    },
    "kernelspec": {
      "name": "python3",
      "display_name": "Python 3"
    },
    "language_info": {
      "name": "python"
    }
  },
  "cells": [
    {
      "cell_type": "markdown",
      "source": [
        "# **Sample Size Calculator**\n",
        "The provided Python code calculates the required sample size for an A/B test based on the significance level (alpha), the power of the test, the baseline conversion rate (p1), and the minimum detectable effect (delta). It employs a normal distribution approach to determine how large each group in the test needs to be to statistically detect the specified effect with the desired confidence. This calculation ensures that the A/B test is adequately powered to identify meaningful differences between the two versions."
      ],
      "metadata": {
        "id": "cET0FyB-bYf3"
      }
    },
    {
      "cell_type": "code",
      "source": [
        "import scipy.stats as stats\n",
        "import numpy as np\n",
        "\n",
        "def calculate_sample_size(alpha, power, p1, delta, allocation_ratio=1):\n",
        "    \"\"\"\n",
        "    Calculate the required sample size for an A/B test.\n",
        "\n",
        "    Parameters:\n",
        "    - alpha: Significance level (Type I error rate)\n",
        "    - power: Power of the test (1 - Type II error rate)\n",
        "    - p1: Baseline conversion rate\n",
        "    - delta: Minimum detectable effect (as a proportion of p1)\n",
        "    - allocation_ratio: The ratio of the size of group A to group B. Default is 1 (equal size).\n",
        "\n",
        "    Returns:\n",
        "    - The required sample size per group.\n",
        "    \"\"\"\n",
        "    # Z-scores for the significance and power levels\n",
        "    z_alpha = stats.norm.ppf(1 - alpha/2)\n",
        "    z_power = stats.norm.ppf(power)\n",
        "\n",
        "    # Pooled standard deviation\n",
        "    p2 = p1 + delta\n",
        "    pooled_sd = np.sqrt(p1 * (1 - p1) + p2 * (1 - p2) / allocation_ratio)\n",
        "\n",
        "    # Calculate sample size\n",
        "    sample_size = (z_alpha + z_power) ** 2 * pooled_sd ** 2 / delta ** 2\n",
        "    return np.ceil(sample_size)\n",
        "\n",
        "# Example parameters\n",
        "alpha = 0.05  # Significance level\n",
        "power = 0.8   # Power of the test\n",
        "p1 = 0.1      # Baseline conversion rate\n",
        "delta = 0.02  # Minimum detectable effect (MDE)\n",
        "allocation_ratio = 1  # Equal allocation for A and B groups\n",
        "\n",
        "# Calculate the required sample size per group\n",
        "sample_size = calculate_sample_size(alpha, power, p1, delta, allocation_ratio)\n",
        "print(f\"Required sample size per group: {sample_size}\")"
      ],
      "metadata": {
        "colab": {
          "base_uri": "https://localhost:8080/"
        },
        "id": "pLCnrCLBbZ5q",
        "outputId": "daf2c6ae-3d2f-4426-a957-ec24eac6848d"
      },
      "execution_count": 2,
      "outputs": [
        {
          "output_type": "stream",
          "name": "stdout",
          "text": [
            "Required sample size per group: 3839.0\n"
          ]
        }
      ]
    },
    {
      "cell_type": "markdown",
      "source": [
        "# **Chi-Squared Test**\n",
        "\n",
        "The Chi-Squared test is a statistical method used to determine the relationship between two categorical variables, examining if distributions differ across groups or if variables are independent. It involves analyzing frequency data within a contingency table, suitable for large sample sizes to ensure validity. Particularly useful for independence testing and assessing goodness-of-fit to theoretical distributions, it necessitates data independence and category exclusivity. This test is essential in fields requiring analysis of categorical relationships, provided its assumptions are satisfied."
      ],
      "metadata": {
        "id": "ZHPeZl9YbY1Z"
      }
    },
    {
      "cell_type": "code",
      "source": [
        "import pandas as pd\n",
        "from scipy.stats import chi2_contingency\n",
        "\n",
        "# Sample data\n",
        "df = pd.DataFrame({'Gender': ['Male', 'Female', 'Male', 'Female'],\n",
        "                   'Preference': ['Option A', 'Option A', 'Option B', 'Option B']})\n",
        "\n",
        "# Create the contingency table\n",
        "contingency_table = pd.crosstab(df['Gender'], df['Preference'])\n",
        "print(contingency_table)\n",
        "\n",
        "# Perform the Chi-Square test\n",
        "stat, p, dof, expected = chi2_contingency(contingency_table)\n",
        "\n",
        "# Print the results\n",
        "print('Chi-square statistic:', stat)\n",
        "print('p-value:', p)\n",
        "print('Degrees of freedom:', dof)\n",
        "\n",
        "alpha = 0.05\n",
        "if p <= alpha:\n",
        "    print('The variables are likely dependent (Reject the null hypothesis)')\n",
        "else:\n",
        "    print('The variables are likely independent (Fail to reject the null hypothesis)')\n"
      ],
      "metadata": {
        "colab": {
          "base_uri": "https://localhost:8080/"
        },
        "id": "5x6-x_6EiZT-",
        "outputId": "2c3b9e8a-0464-4344-ffba-f5cd28cb2c22"
      },
      "execution_count": 3,
      "outputs": [
        {
          "output_type": "stream",
          "name": "stdout",
          "text": [
            "Preference  Option A  Option B\n",
            "Gender                        \n",
            "Female             1         1\n",
            "Male               1         1\n",
            "Chi-square statistic: 0.0\n",
            "p-value: 1.0\n",
            "Degrees of freedom: 1\n",
            "The variables are likely independent (Fail to reject the null hypothesis)\n"
          ]
        }
      ]
    },
    {
      "cell_type": "markdown",
      "source": [
        "# **T-Test**\n",
        "\n",
        "The t-test is used to compare means between two groups or against a known value, especially suitable for small sample sizes and when the population standard deviation is unknown. It assumes normally distributed data and can assess differences in independent, paired samples, or against a known mean,guiding decisions with p-values."
      ],
      "metadata": {
        "id": "ttfisV5hjnWn"
      }
    },
    {
      "cell_type": "code",
      "source": [
        "# prompt: write me a t squared test with dummy data\n",
        "\n",
        "import numpy as np\n",
        "from scipy.stats import t\n",
        "\n",
        "# Generate dummy data\n",
        "x = np.random.randn(10)\n",
        "y = 2*x + 3 + np.random.randn(10)\n",
        "\n",
        "# Calculate the t-squared statistic\n",
        "t_squared = np.square(np.mean(x - y) / (np.std(x, ddof=1) / np.sqrt(len(x))))\n",
        "\n",
        "# Calculate the degrees of freedom\n",
        "df = len(x) - 1\n",
        "\n",
        "# Calculate the p-value\n",
        "p_value = 2 * (1 - t.cdf(np.abs(t_squared), df))\n",
        "\n",
        "# Print the results\n",
        "print(\"t-squared statistic:\", t_squared)\n",
        "print(\"degrees of freedom:\", df)\n",
        "print(\"p-value:\", p_value)\n",
        "\n",
        "# Interpret the results\n",
        "if p_value <= 0.05:\n",
        "    print(\"Reject the null hypothesis: the means of x and y are different.\")\n",
        "else:\n",
        "    print(\"Fail to reject the null hypothesis: the means of x and y are not different.\")\n"
      ],
      "metadata": {
        "colab": {
          "base_uri": "https://localhost:8080/"
        },
        "id": "40Ta2BNaiZxR",
        "outputId": "15cd1148-6765-4bb8-c650-570506c26bf7"
      },
      "execution_count": 4,
      "outputs": [
        {
          "output_type": "stream",
          "name": "stdout",
          "text": [
            "t-squared statistic: 68.47333943609053\n",
            "degrees of freedom: 9\n",
            "p-value: 1.525446435834965e-13\n",
            "Reject the null hypothesis: the means of x and y are different.\n"
          ]
        }
      ]
    },
    {
      "cell_type": "markdown",
      "source": [
        "# **Fischer t-test or Student's t-test**\n",
        "\n",
        "The Fischer t-test, also known as the Student's t-test, is commonly used to determine if there is a significant difference between the means of two independent groups. It's applicable when the data meets certain assumptions, such as normality and homogeneity of variances. This test is appropriate for comparing means of continuous data, typically with a small sample size. Researchers employ it in various fields, including psychology, medicine, and sociology, to analyze experimental results or compare groups in observational studies. Overall, the Fischer t-test is valuable for assessing differences in means between two groups while considering the variability within each group."
      ],
      "metadata": {
        "id": "Cm7l0Pzhl6bV"
      }
    },
    {
      "cell_type": "code",
      "source": [
        "from scipy.stats import fisher_exact\n",
        "\n",
        "# Example of a 2x2 contingency table with dummy data\n",
        "# Let's say this is data on success (1) vs. failure (0) for two different treatments\n",
        "# Rows represent the outcomes (Success, Failure), and columns represent treatments (A, B)\n",
        "data = [[8, 2],  # Successes for Treatment A and B\n",
        "        [1, 5]]  # Failures for Treatment A and B\n",
        "\n",
        "# Perform Fisher's Exact Test\n",
        "odds_ratio, p_value = fisher_exact(data)\n",
        "\n",
        "print(f\"Odds Ratio: {odds_ratio}\")\n",
        "print(f\"P-Value: {p_value}\")"
      ],
      "metadata": {
        "id": "2GWks1KDi7ds",
        "colab": {
          "base_uri": "https://localhost:8080/"
        },
        "outputId": "d94f14d3-02fd-4955-f754-7daf40816784"
      },
      "execution_count": 5,
      "outputs": [
        {
          "output_type": "stream",
          "name": "stdout",
          "text": [
            "Odds Ratio: 20.0\n",
            "P-Value: 0.034965034965034975\n"
          ]
        }
      ]
    },
    {
      "cell_type": "markdown",
      "source": [
        "# **McNemar test**\n",
        "\n",
        "The McNemar test is a statistical tool used for analyzing paired nominal data with binary outcomes, ideal for before-and-after studies or matched pairs research. It tests for significant changes in outcomes between two related samples, focusing on differences in marginal frequencies within a 2x2 contingency table. This test is particularly useful when each subject serves as their own control, effectively minimizing between-subject variability. It offers an exact calculation method, making it suitable for small sample sizes. Essentially, the McNemar test is applied to assess the efficacy of treatments or interventions by comparing pre-treatment and post-treatment outcomes within the same subjects."
      ],
      "metadata": {
        "id": "EevKin4Hl2zv"
      }
    },
    {
      "cell_type": "code",
      "source": [
        "from statsmodels.stats.contingency_tables import mcnemar\n",
        "import numpy as np\n",
        "\n",
        "# Example data: Rows are pre-treatment, columns are post-treatment\n",
        "# Element (i, j) represents the count of subjects with outcome i before treatment and outcome j after treatment\n",
        "# matrix[0, 1] - subjects with no effect before and effect after treatment\n",
        "# matrix[1, 0] - subjects with effect before and no effect after treatment\n",
        "data = np.array([[5, 1],  # 5 subjects showed no effect before and after, 1 showed no effect before but did after\n",
        "                 [4, 0]]) # 4 subjects showed effect before but not after, 0 showed effect both times\n",
        "\n",
        "# Perform McNemar test\n",
        "result = mcnemar(data, exact=True)  # Use exact=True for small sample sizes\n",
        "\n",
        "# Output the result\n",
        "print(f\"Statistic: {result.statistic}, p-value: {result.pvalue}\")\n",
        "\n",
        "# Interpretation\n",
        "if result.pvalue < 0.05:\n",
        "    print(\"There is a significant difference between the two treatments.\")\n",
        "else:\n",
        "    print(\"There is no significant difference between the two treatments.\")\n"
      ],
      "metadata": {
        "colab": {
          "base_uri": "https://localhost:8080/"
        },
        "id": "pJOf3vM7l3KB",
        "outputId": "57549e0c-5bb1-4562-b387-718666c0151f"
      },
      "execution_count": 10,
      "outputs": [
        {
          "output_type": "stream",
          "name": "stdout",
          "text": [
            "Requirement already satisfied: scipy in /usr/local/lib/python3.10/dist-packages (1.11.4)\n",
            "Requirement already satisfied: numpy<1.28.0,>=1.21.6 in /usr/local/lib/python3.10/dist-packages (from scipy) (1.25.2)\n",
            "Statistic: 1.0, p-value: 0.375\n",
            "There is no significant difference between the two treatments.\n"
          ]
        }
      ]
    },
    {
      "cell_type": "markdown",
      "source": [
        "# **Mann-Whitney U test**\n",
        "\n",
        "The Mann-Whitney U test is employed when comparing two independent groups to determine if they have statistically significant differences in their distributions. It's particularly useful when the assumptions of parametric tests like the t-test are violated, such as when data is not normally distributed or when the variance is unequal."
      ],
      "metadata": {
        "id": "0B7rkYyjm8W_"
      }
    },
    {
      "cell_type": "code",
      "source": [
        "import numpy as np\n",
        "from scipy.stats import mannwhitneyu\n",
        "\n",
        "# Generate dummy data\n",
        "np.random.seed(42)  # For reproducibility\n",
        "sample1 = np.random.normal(loc=10, scale=2, size=30)  # Sample 1\n",
        "sample2 = np.random.normal(loc=12, scale=2, size=30)  # Sample 2\n",
        "\n",
        "# Perform Mann-Whitney U test\n",
        "statistic, p_value = mannwhitneyu(sample1, sample2, alternative='two-sided')\n",
        "\n",
        "# Display the results\n",
        "print(\"Mann-Whitney U Statistic:\", statistic)\n",
        "print(\"p-value:\", p_value)\n",
        "\n",
        "if p_value < 0.05:\n",
        "    print(\"Reject null hypothesis: There is a significant difference between the distributions.\")\n",
        "else:\n",
        "    print(\"Fail to reject null hypothesis: There is no significant difference between the distributions.\")\n"
      ],
      "metadata": {
        "colab": {
          "base_uri": "https://localhost:8080/"
        },
        "id": "aDqohfqRnAQt",
        "outputId": "09f11a64-5896-4733-a24f-337b49f87831"
      },
      "execution_count": 7,
      "outputs": [
        {
          "output_type": "stream",
          "name": "stdout",
          "text": [
            "Mann-Whitney U Statistic: 186.0\n",
            "p-value: 9.791710196799422e-05\n",
            "Reject null hypothesis: There is a significant difference between the distributions.\n"
          ]
        }
      ]
    },
    {
      "cell_type": "markdown",
      "source": [
        "# **Upper Confidence Bound (UCB)**\n",
        "The Upper Confidence Bound (UCB) algorithm addresses the exploration-exploitation dilemma in sequential decision-making tasks like A/B testing. It selects options by considering both their average rewards and the uncertainty in these rewards. Key components include the option's performance history and a confidence level to balance exploration of less tried options with exploitation of known performers. UCB is optimal for scenarios where decisions must adapt based on ongoing data, making it crucial for efficient and informed decision-making processes."
      ],
      "metadata": {
        "id": "Z2McVOA_dyN1"
      }
    },
    {
      "cell_type": "code",
      "source": [
        "import numpy as np\n",
        "import matplotlib.pyplot as plt\n",
        "\n",
        "np.random.seed(42)  # For reproducibility\n",
        "\n",
        "class Bandit:\n",
        "    def __init__(self, probabilities):\n",
        "        self.probabilities = probabilities\n",
        "        self.n_arms = len(probabilities)\n",
        "        self.counts = [0] * self.n_arms  # Count of times each arm was played\n",
        "        self.values = [0.0] * self.n_arms  # Estimated value of each arm\n",
        "\n",
        "    def choose_arm(self):\n",
        "        \"\"\"\n",
        "        Select the arm using the Upper Confidence Bound (UCB1) algorithm.\n",
        "        \"\"\"\n",
        "        total_counts = sum(self.counts)\n",
        "        if 0 in self.counts:\n",
        "            # If any arm hasn't been played yet, choose it\n",
        "            return np.argmin(self.counts)\n",
        "\n",
        "        ucb_values = [\n",
        "            self.values[i] + np.sqrt(2 * np.log(total_counts) / self.counts[i])\n",
        "            for i in range(self.n_arms)\n",
        "        ]\n",
        "        return np.argmax(ucb_values)\n",
        "\n",
        "    def update(self, chosen_arm, reward):\n",
        "        \"\"\"\n",
        "        Update the counts and estimated values after playing an arm.\n",
        "        \"\"\"\n",
        "        self.counts[chosen_arm] += 1\n",
        "        n = self.counts[chosen_arm]\n",
        "        value = self.values[chosen_arm]\n",
        "        # Update using the incremental formula to calculate the new average\n",
        "        self.values[chosen_arm] = ((n - 1) / n) * value + (1 / n) * reward\n",
        "\n",
        "def simulate_bandit_problem(probabilities, n_rounds):\n",
        "    bandit = Bandit(probabilities)\n",
        "    rewards = np.zeros(n_rounds)\n",
        "\n",
        "    for i in range(n_rounds):\n",
        "        chosen_arm = bandit.choose_arm()\n",
        "        reward = np.random.rand() < probabilities[chosen_arm]  # Simulate Bernoulli reward\n",
        "        bandit.update(chosen_arm, reward)\n",
        "        rewards[i] = reward\n",
        "\n",
        "    print(f\"Total reward: {sum(rewards)}\")\n",
        "    print(f\"Average reward: {np.mean(rewards)}\")\n",
        "    print(f\"Number of times each arm was chosen: {bandit.counts}\")\n",
        "\n",
        "    # Plotting\n",
        "    plt.bar(range(len(probabilities)), bandit.counts, tick_label=[f\"Arm {i+1}\" for i in range(len(probabilities))])\n",
        "    plt.xlabel('Arms')\n",
        "    plt.ylabel('Number of times chosen')\n",
        "    plt.title('Number of times each arm was chosen')\n",
        "    plt.show()\n",
        "\n",
        "# Example: 4 arms with different probabilities of success\n",
        "probabilities = [0.1, 0.15, 0.2, 0.25]  # Probability of winning for each arm\n",
        "n_rounds = 1000  # Number of rounds to play\n",
        "\n",
        "simulate_bandit_problem(probabilities, n_rounds)\n"
      ],
      "metadata": {
        "colab": {
          "base_uri": "https://localhost:8080/",
          "height": 524
        },
        "id": "oufO2_lodzrL",
        "outputId": "459c3477-3499-46b7-a715-1630c72ca217"
      },
      "execution_count": 8,
      "outputs": [
        {
          "output_type": "stream",
          "name": "stdout",
          "text": [
            "Total reward: 234.0\n",
            "Average reward: 0.234\n",
            "Number of times each arm was chosen: [103, 128, 178, 591]\n"
          ]
        },
        {
          "output_type": "display_data",
          "data": {
            "text/plain": [
              "<Figure size 640x480 with 1 Axes>"
            ],
            "image/png": "[encoded data removed]"
          },
          "metadata": {}
        }
      ]
    },
    {
      "cell_type": "code",
      "source": [],
      "metadata": {
        "id": "V_v5YNUDd0ep"
      },
      "execution_count": null,
      "outputs": []
    }
  ]
}